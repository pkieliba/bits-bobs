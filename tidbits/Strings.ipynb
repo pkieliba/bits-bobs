{
 "cells": [
  {
   "cell_type": "code",
   "execution_count": 3,
   "metadata": {},
   "outputs": [
    {
     "name": "stdout",
     "output_type": "stream",
     "text": [
      "The autoreload extension is already loaded. To reload it, use:\n",
      "  %reload_ext autoreload\n"
     ]
    }
   ],
   "source": [
    "%load_ext autoreload\n",
    "%aimport testBits\n",
    "%autoreload 1"
   ]
  },
  {
   "cell_type": "markdown",
   "metadata": {},
   "source": [
    "### 1. Compress a string such that 'AAABCCDDDD' becomes 'A3BC2D4'. Only compress the string if it saves space."
   ]
  },
  {
   "cell_type": "code",
   "execution_count": 6,
   "metadata": {},
   "outputs": [
    {
     "name": "stdout",
     "output_type": "stream",
     "text": [
      "Success: test_compress\n"
     ]
    }
   ],
   "source": [
    "def compress_string(string):\n",
    "    \n",
    "    if string is None or not string:\n",
    "        return string\n",
    "    \n",
    "    result = ''\n",
    "    prev_char = string[0]\n",
    "    count = 0\n",
    "    \n",
    "    for char in string:\n",
    "        if char == prev_char:\n",
    "            count += 1\n",
    "        else:\n",
    "            result += (prev_char + str(count) if count > 2 else prev_char * count)\n",
    "            prev_char = char\n",
    "            count = 1\n",
    "            \n",
    "    result += (prev_char + str(count) if count > 2 else prev_char * count)\n",
    "    \n",
    "    return result if len(result) < len(string) else string\n",
    "\n",
    "\n",
    "test = testBits.TestString()\n",
    "test.test_compress(compress_string)"
   ]
  },
  {
   "cell_type": "markdown",
   "metadata": {},
   "source": [
    "### 2. Add commas as thousand separators to a number. Don't use built-in string formatting or replacing methods"
   ]
  },
  {
   "cell_type": "code",
   "execution_count": 46,
   "metadata": {},
   "outputs": [
    {
     "name": "stdout",
     "output_type": "stream",
     "text": [
      "Success: test_commify\n"
     ]
    }
   ],
   "source": [
    "def commifyNum(num):\n",
    "    \n",
    "    if num is None:\n",
    "        return num\n",
    "    elif type(num)==str and not num.isnumeric():\n",
    "        return num\n",
    "    elif type(num) not in [str, float, int]:\n",
    "        return num\n",
    "    \n",
    "    numStr = str(num)\n",
    "    intNum = numStr.split('.')[0]\n",
    "    try:\n",
    "        decNum = '.' + numStr.split('.')[1]\n",
    "    except:\n",
    "        decNum = ''\n",
    "    result = \"\"\n",
    "    \n",
    "    for i in range(1, len(intNum)+1):\n",
    "        result = result + intNum[-i]\n",
    "        if i%3==0 and len(intNum)>i:\n",
    "            result = result + \",\"\n",
    "            \n",
    "    return result[::-1] + decNum\n",
    "\n",
    "\n",
    "test = testBits.TestString()\n",
    "test.test_commify(commifyNum)"
   ]
  },
  {
   "cell_type": "markdown",
   "metadata": {},
   "source": [
    "### 3. Return the string representation of numbers from 1 to N. Replace the multiples of 3 by \"Fizz\", multiples of 5 by \"Buzz\" and multiples of both 3 and 5 by \"FizzBuzz\""
   ]
  },
  {
   "cell_type": "code",
   "execution_count": 37,
   "metadata": {},
   "outputs": [
    {
     "name": "stdout",
     "output_type": "stream",
     "text": [
      "Success: test_fizz_buzz\n"
     ]
    }
   ],
   "source": [
    "def fizz_buzz(num):\n",
    "    if num is None:\n",
    "        raise TypeError('num cannot be None')\n",
    "    if num < 1:\n",
    "        raise ValueError('num cannot be less than one')\n",
    "        \n",
    "    result = []\n",
    "    \n",
    "    for i in range(1, num + 1):\n",
    "        if i % 3 == 0 and i % 5 == 0:\n",
    "            result.append('FizzBuzz')\n",
    "        elif i % 3 == 0:                \n",
    "            result.append('Fizz')\n",
    "        elif i % 5 == 0:\n",
    "            result.append('Buzz')\n",
    "        else:                \n",
    "            result.append(str(i))\n",
    "            \n",
    "    return result\n",
    "\n",
    "\n",
    "test = testBits.TestString()\n",
    "test.test_fizz_buzz(fizz_buzz)"
   ]
  },
  {
   "cell_type": "markdown",
   "metadata": {},
   "source": [
    "### 4. Implement a function to reverse a string (a list of characters), in-place. Since python strings are immutable, use a list of chars as the input"
   ]
  },
  {
   "cell_type": "code",
   "execution_count": 39,
   "metadata": {},
   "outputs": [
    {
     "name": "stdout",
     "output_type": "stream",
     "text": [
      "Success: test_reverse\n",
      "Success: test_reverse_inplace\n"
     ]
    }
   ],
   "source": [
    "def reverse_string(chars):\n",
    "    \n",
    "    if chars is None:\n",
    "        return None\n",
    "    \n",
    "    size = len(chars)\n",
    "    \n",
    "    for i in range(0, size//2):\n",
    "        chars[i], chars[size-1-i] = chars[size-1-i], chars[i]\n",
    "    \n",
    "    return chars\n",
    "\n",
    "    \n",
    "test = testBits.TestString()\n",
    "test.test_reverse(reverse_string)\n",
    "test.test_reverse_inplace(reverse_string)"
   ]
  },
  {
   "cell_type": "markdown",
   "metadata": {},
   "source": [
    "### 5. Implement an algorithm to determine if a string has all unique characters."
   ]
  },
  {
   "cell_type": "code",
   "execution_count": 41,
   "metadata": {},
   "outputs": [
    {
     "name": "stdout",
     "output_type": "stream",
     "text": [
      "Success: test_unique_chars\n"
     ]
    }
   ],
   "source": [
    "def has_unique_chars(string):\n",
    "    \n",
    "    if string is None:\n",
    "        return False\n",
    "    \n",
    "    charDict = {}\n",
    "    \n",
    "    for char in string:\n",
    "        charDict[char] = charDict.get(char, 0) + 1\n",
    "        if charDict[char] > 1:\n",
    "            return False\n",
    "    return True\n",
    "    \n",
    "    \n",
    "test = testBits.TestString()\n",
    "test.test_unique_chars(has_unique_chars)"
   ]
  },
  {
   "cell_type": "markdown",
   "metadata": {},
   "source": [
    "### 6. When typing on a keyboard, sometime a key might get long pressed and the character will be typed more than 1 time. Check whether the typed string matches the original one, with some characters (possibly none) being long pressed."
   ]
  },
  {
   "cell_type": "code",
   "execution_count": 45,
   "metadata": {},
   "outputs": [
    {
     "name": "stdout",
     "output_type": "stream",
     "text": [
      "Success: test_long_pressed\n"
     ]
    }
   ],
   "source": [
    "def is_long_pressed(orig, typed):\n",
    "    \n",
    "    if orig is None or typed is None:\n",
    "        return False\n",
    "    \n",
    "    for char in orig:\n",
    "        \n",
    "        if len(orig) == 0:\n",
    "            break\n",
    "        if (char in orig) and (char not in typed):\n",
    "            return False\n",
    "        \n",
    "        inOrig = len(orig) - len(orig.lstrip(char))\n",
    "        inTyped = len(typed) - len(typed.lstrip(char))\n",
    "        \n",
    "        if inOrig > inTyped:\n",
    "            return False\n",
    "        \n",
    "        orig = orig.lstrip(char)\n",
    "        typed = typed.lstrip(char)\n",
    "        \n",
    "    if len(orig) != len(typed):\n",
    "        return False\n",
    "    else:\n",
    "        return True\n",
    "    \n",
    "    \n",
    "test = testBits.TestString()\n",
    "test.test_long_pressed(is_long_pressed)"
   ]
  },
  {
   "cell_type": "markdown",
   "metadata": {},
   "source": [
    "### 7. Find the single different char between two strings."
   ]
  },
  {
   "cell_type": "code",
   "execution_count": 54,
   "metadata": {},
   "outputs": [
    {
     "name": "stdout",
     "output_type": "stream",
     "text": [
      "Success: test_find_diff\n"
     ]
    }
   ],
   "source": [
    "def find_diff(string1, string2):\n",
    "    \n",
    "    if string1 is None or string2 is None:\n",
    "        raise TypeError('str1 or str2 cannot be None')\n",
    "\n",
    "    charDict = {}\n",
    "    for char in string1:\n",
    "        charDict[char] = charDict.get(char, 0) + 1\n",
    "    for char in string2:\n",
    "        try:\n",
    "            charDict[char] -= 1\n",
    "        except:\n",
    "            return char\n",
    "        if charDict[char] < 0:\n",
    "            return char\n",
    "    for char in charDict.keys():\n",
    "        return char\n",
    "    \n",
    "    \n",
    "test = testBits.TestString()\n",
    "test.test_find_diff(find_diff)"
   ]
  },
  {
   "cell_type": "markdown",
   "metadata": {},
   "source": [
    "### 8. Determine if a string is a permutation of another string."
   ]
  },
  {
   "cell_type": "code",
   "execution_count": 57,
   "metadata": {},
   "outputs": [
    {
     "name": "stdout",
     "output_type": "stream",
     "text": [
      "Success: test_permutation\n"
     ]
    }
   ],
   "source": [
    "def is_permutation(string1, string2):\n",
    "    \n",
    "    if string1 is None or string2 is None:\n",
    "        return False\n",
    "    \n",
    "    dict1 = {}\n",
    "    dict2 = {}\n",
    "    \n",
    "    for char in string1:\n",
    "        dict1[char] = dict1.get(char, 0) + 1\n",
    "    for char in string2:\n",
    "        dict2[char] = dict2.get(char, 0) + 1\n",
    "    \n",
    "    return dict1 == dict2\n",
    "\n",
    "test = testBits.TestString()\n",
    "test.test_permutation(is_permutation)"
   ]
  },
  {
   "cell_type": "code",
   "execution_count": null,
   "metadata": {},
   "outputs": [],
   "source": []
  }
 ],
 "metadata": {
  "kernelspec": {
   "display_name": "Python 3",
   "language": "python",
   "name": "python3"
  },
  "language_info": {
   "codemirror_mode": {
    "name": "ipython",
    "version": 3
   },
   "file_extension": ".py",
   "mimetype": "text/x-python",
   "name": "python",
   "nbconvert_exporter": "python",
   "pygments_lexer": "ipython3",
   "version": "3.6.3"
  }
 },
 "nbformat": 4,
 "nbformat_minor": 4
}
